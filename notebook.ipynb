{
 "cells": [
  {
   "cell_type": "code",
   "execution_count": 1,
   "metadata": {},
   "outputs": [],
   "source": [
    "import numpy as np\n",
    "import pandas as pd\n",
    "import pickle\n",
    "from sklearn.model_selection import train_test_split\n",
    "from sklearn.preprocessing import StandardScaler\n",
    "from sklearn.utils import shuffle\n",
    "from sklearn.preprocessing import LabelEncoder, OrdinalEncoder\n",
    "from sklearn.ensemble import RandomForestClassifier\n",
    "import matplotlib.pyplot as plt\n",
    "%matplotlib inline \n",
    "import seaborn as sns"
   ]
  },
  {
   "cell_type": "markdown",
   "metadata": {},
   "source": [
    "### Load training data"
   ]
  },
  {
   "cell_type": "code",
   "execution_count": 2,
   "metadata": {},
   "outputs": [],
   "source": [
    "data = pd.read_csv('train.csv', sep=';')"
   ]
  },
  {
   "cell_type": "code",
   "execution_count": 3,
   "metadata": {},
   "outputs": [
    {
     "data": {
      "text/html": [
       "<div>\n",
       "<style scoped>\n",
       "    .dataframe tbody tr th:only-of-type {\n",
       "        vertical-align: middle;\n",
       "    }\n",
       "\n",
       "    .dataframe tbody tr th {\n",
       "        vertical-align: top;\n",
       "    }\n",
       "\n",
       "    .dataframe thead th {\n",
       "        text-align: right;\n",
       "    }\n",
       "</style>\n",
       "<table border=\"1\" class=\"dataframe\">\n",
       "  <thead>\n",
       "    <tr style=\"text-align: right;\">\n",
       "      <th></th>\n",
       "      <th>WELL</th>\n",
       "      <th>DEPTH_MD</th>\n",
       "      <th>X_LOC</th>\n",
       "      <th>Y_LOC</th>\n",
       "      <th>Z_LOC</th>\n",
       "      <th>GROUP</th>\n",
       "      <th>FORMATION</th>\n",
       "      <th>CALI</th>\n",
       "      <th>RSHA</th>\n",
       "      <th>RMED</th>\n",
       "      <th>...</th>\n",
       "      <th>ROP</th>\n",
       "      <th>DTS</th>\n",
       "      <th>DCAL</th>\n",
       "      <th>DRHO</th>\n",
       "      <th>MUDWEIGHT</th>\n",
       "      <th>RMIC</th>\n",
       "      <th>ROPA</th>\n",
       "      <th>RXO</th>\n",
       "      <th>FORCE_2020_LITHOFACIES_LITHOLOGY</th>\n",
       "      <th>FORCE_2020_LITHOFACIES_CONFIDENCE</th>\n",
       "    </tr>\n",
       "  </thead>\n",
       "  <tbody>\n",
       "    <tr>\n",
       "      <th>957510</th>\n",
       "      <td>34/8-7 R</td>\n",
       "      <td>4678.760000</td>\n",
       "      <td>476279.93750</td>\n",
       "      <td>6798614.0</td>\n",
       "      <td>-4650.824707</td>\n",
       "      <td>BAAT GP.</td>\n",
       "      <td>Ness Fm.</td>\n",
       "      <td>19.120703</td>\n",
       "      <td>9.232271</td>\n",
       "      <td>13.151958</td>\n",
       "      <td>...</td>\n",
       "      <td>NaN</td>\n",
       "      <td>NaN</td>\n",
       "      <td>NaN</td>\n",
       "      <td>-0.030031</td>\n",
       "      <td>NaN</td>\n",
       "      <td>NaN</td>\n",
       "      <td>NaN</td>\n",
       "      <td>NaN</td>\n",
       "      <td>30000</td>\n",
       "      <td>1.0</td>\n",
       "    </tr>\n",
       "    <tr>\n",
       "      <th>151835</th>\n",
       "      <td>16/4-1</td>\n",
       "      <td>2204.737604</td>\n",
       "      <td>449956.43750</td>\n",
       "      <td>6500266.5</td>\n",
       "      <td>-2179.177734</td>\n",
       "      <td>ROGALAND GP.</td>\n",
       "      <td>Heimdal Fm.</td>\n",
       "      <td>12.102000</td>\n",
       "      <td>0.340050</td>\n",
       "      <td>0.340767</td>\n",
       "      <td>...</td>\n",
       "      <td>3.357165</td>\n",
       "      <td>NaN</td>\n",
       "      <td>-0.148000</td>\n",
       "      <td>-0.036417</td>\n",
       "      <td>0.149783</td>\n",
       "      <td>NaN</td>\n",
       "      <td>NaN</td>\n",
       "      <td>0.489633</td>\n",
       "      <td>30000</td>\n",
       "      <td>1.0</td>\n",
       "    </tr>\n",
       "    <tr>\n",
       "      <th>193941</th>\n",
       "      <td>17/11-1</td>\n",
       "      <td>499.577016</td>\n",
       "      <td>520153.18750</td>\n",
       "      <td>6452287.5</td>\n",
       "      <td>-472.577026</td>\n",
       "      <td>NORDLAND GP.</td>\n",
       "      <td>NaN</td>\n",
       "      <td>13.450793</td>\n",
       "      <td>0.984644</td>\n",
       "      <td>1.745430</td>\n",
       "      <td>...</td>\n",
       "      <td>171.428604</td>\n",
       "      <td>NaN</td>\n",
       "      <td>NaN</td>\n",
       "      <td>0.038372</td>\n",
       "      <td>1.090420</td>\n",
       "      <td>NaN</td>\n",
       "      <td>NaN</td>\n",
       "      <td>NaN</td>\n",
       "      <td>65000</td>\n",
       "      <td>1.0</td>\n",
       "    </tr>\n",
       "    <tr>\n",
       "      <th>953657</th>\n",
       "      <td>34/8-3</td>\n",
       "      <td>3048.424434</td>\n",
       "      <td>475755.75000</td>\n",
       "      <td>6808503.0</td>\n",
       "      <td>-3020.519775</td>\n",
       "      <td>DUNLIN GP.</td>\n",
       "      <td>Cook Fm.</td>\n",
       "      <td>9.748233</td>\n",
       "      <td>2.815506</td>\n",
       "      <td>2.802172</td>\n",
       "      <td>...</td>\n",
       "      <td>NaN</td>\n",
       "      <td>NaN</td>\n",
       "      <td>NaN</td>\n",
       "      <td>-0.014549</td>\n",
       "      <td>NaN</td>\n",
       "      <td>2.698672</td>\n",
       "      <td>NaN</td>\n",
       "      <td>2.699701</td>\n",
       "      <td>65030</td>\n",
       "      <td>1.0</td>\n",
       "    </tr>\n",
       "    <tr>\n",
       "      <th>832955</th>\n",
       "      <td>34/11-2 S</td>\n",
       "      <td>3798.416000</td>\n",
       "      <td>467002.28125</td>\n",
       "      <td>6788171.5</td>\n",
       "      <td>-3731.916992</td>\n",
       "      <td>VIKING GP.</td>\n",
       "      <td>Draupne Fm.</td>\n",
       "      <td>8.670938</td>\n",
       "      <td>NaN</td>\n",
       "      <td>13.338161</td>\n",
       "      <td>...</td>\n",
       "      <td>NaN</td>\n",
       "      <td>NaN</td>\n",
       "      <td>NaN</td>\n",
       "      <td>-0.008000</td>\n",
       "      <td>NaN</td>\n",
       "      <td>NaN</td>\n",
       "      <td>11.890960</td>\n",
       "      <td>-999.000000</td>\n",
       "      <td>30000</td>\n",
       "      <td>1.0</td>\n",
       "    </tr>\n",
       "    <tr>\n",
       "      <th>1125647</th>\n",
       "      <td>35/9-2</td>\n",
       "      <td>2129.576358</td>\n",
       "      <td>550241.00000</td>\n",
       "      <td>6800627.0</td>\n",
       "      <td>-2097.352783</td>\n",
       "      <td>VIKING GP.</td>\n",
       "      <td>Sognefjord Fm.</td>\n",
       "      <td>8.346808</td>\n",
       "      <td>18.232542</td>\n",
       "      <td>615.140137</td>\n",
       "      <td>...</td>\n",
       "      <td>NaN</td>\n",
       "      <td>161.265976</td>\n",
       "      <td>-0.153191</td>\n",
       "      <td>-0.001694</td>\n",
       "      <td>NaN</td>\n",
       "      <td>17.745361</td>\n",
       "      <td>NaN</td>\n",
       "      <td>20.196136</td>\n",
       "      <td>30000</td>\n",
       "      <td>1.0</td>\n",
       "    </tr>\n",
       "    <tr>\n",
       "      <th>322506</th>\n",
       "      <td>25/4-5</td>\n",
       "      <td>2851.342805</td>\n",
       "      <td>454469.53125</td>\n",
       "      <td>6603730.0</td>\n",
       "      <td>-2826.042725</td>\n",
       "      <td>SHETLAND GP.</td>\n",
       "      <td>Jorsalfare Fm.</td>\n",
       "      <td>13.526553</td>\n",
       "      <td>NaN</td>\n",
       "      <td>2.468339</td>\n",
       "      <td>...</td>\n",
       "      <td>NaN</td>\n",
       "      <td>NaN</td>\n",
       "      <td>1.276552</td>\n",
       "      <td>0.000000</td>\n",
       "      <td>NaN</td>\n",
       "      <td>NaN</td>\n",
       "      <td>NaN</td>\n",
       "      <td>NaN</td>\n",
       "      <td>80000</td>\n",
       "      <td>1.0</td>\n",
       "    </tr>\n",
       "    <tr>\n",
       "      <th>134450</th>\n",
       "      <td>16/2-6</td>\n",
       "      <td>925.490799</td>\n",
       "      <td>477771.03125</td>\n",
       "      <td>6520634.0</td>\n",
       "      <td>-899.440735</td>\n",
       "      <td>NORDLAND GP.</td>\n",
       "      <td>Utsira Fm.</td>\n",
       "      <td>12.473072</td>\n",
       "      <td>NaN</td>\n",
       "      <td>1.271515</td>\n",
       "      <td>...</td>\n",
       "      <td>31.716082</td>\n",
       "      <td>NaN</td>\n",
       "      <td>NaN</td>\n",
       "      <td>-0.016143</td>\n",
       "      <td>NaN</td>\n",
       "      <td>NaN</td>\n",
       "      <td>31.941462</td>\n",
       "      <td>NaN</td>\n",
       "      <td>65030</td>\n",
       "      <td>2.0</td>\n",
       "    </tr>\n",
       "    <tr>\n",
       "      <th>67898</th>\n",
       "      <td>16/10-1</td>\n",
       "      <td>1838.423790</td>\n",
       "      <td>444152.96875</td>\n",
       "      <td>6435554.5</td>\n",
       "      <td>-1813.342285</td>\n",
       "      <td>HORDALAND GP.</td>\n",
       "      <td>Utsira Fm.</td>\n",
       "      <td>12.824336</td>\n",
       "      <td>NaN</td>\n",
       "      <td>0.829574</td>\n",
       "      <td>...</td>\n",
       "      <td>12.646891</td>\n",
       "      <td>NaN</td>\n",
       "      <td>0.324336</td>\n",
       "      <td>-0.002829</td>\n",
       "      <td>0.158171</td>\n",
       "      <td>NaN</td>\n",
       "      <td>NaN</td>\n",
       "      <td>NaN</td>\n",
       "      <td>65000</td>\n",
       "      <td>1.0</td>\n",
       "    </tr>\n",
       "    <tr>\n",
       "      <th>727949</th>\n",
       "      <td>33/9-1</td>\n",
       "      <td>2514.778000</td>\n",
       "      <td>437780.34375</td>\n",
       "      <td>6791573.5</td>\n",
       "      <td>-2489.778076</td>\n",
       "      <td>BAAT GP.</td>\n",
       "      <td>Ness Fm.</td>\n",
       "      <td>12.333724</td>\n",
       "      <td>2.160253</td>\n",
       "      <td>3.812947</td>\n",
       "      <td>...</td>\n",
       "      <td>NaN</td>\n",
       "      <td>NaN</td>\n",
       "      <td>NaN</td>\n",
       "      <td>-0.018961</td>\n",
       "      <td>NaN</td>\n",
       "      <td>NaN</td>\n",
       "      <td>NaN</td>\n",
       "      <td>NaN</td>\n",
       "      <td>65000</td>\n",
       "      <td>1.0</td>\n",
       "    </tr>\n",
       "  </tbody>\n",
       "</table>\n",
       "<p>10 rows × 29 columns</p>\n",
       "</div>"
      ],
      "text/plain": [
       "              WELL     DEPTH_MD         X_LOC      Y_LOC        Z_LOC  \\\n",
       "957510    34/8-7 R  4678.760000  476279.93750  6798614.0 -4650.824707   \n",
       "151835      16/4-1  2204.737604  449956.43750  6500266.5 -2179.177734   \n",
       "193941     17/11-1   499.577016  520153.18750  6452287.5  -472.577026   \n",
       "953657      34/8-3  3048.424434  475755.75000  6808503.0 -3020.519775   \n",
       "832955   34/11-2 S  3798.416000  467002.28125  6788171.5 -3731.916992   \n",
       "1125647     35/9-2  2129.576358  550241.00000  6800627.0 -2097.352783   \n",
       "322506      25/4-5  2851.342805  454469.53125  6603730.0 -2826.042725   \n",
       "134450      16/2-6   925.490799  477771.03125  6520634.0  -899.440735   \n",
       "67898      16/10-1  1838.423790  444152.96875  6435554.5 -1813.342285   \n",
       "727949      33/9-1  2514.778000  437780.34375  6791573.5 -2489.778076   \n",
       "\n",
       "                 GROUP       FORMATION       CALI       RSHA        RMED  ...  \\\n",
       "957510        BAAT GP.        Ness Fm.  19.120703   9.232271   13.151958  ...   \n",
       "151835    ROGALAND GP.     Heimdal Fm.  12.102000   0.340050    0.340767  ...   \n",
       "193941    NORDLAND GP.             NaN  13.450793   0.984644    1.745430  ...   \n",
       "953657      DUNLIN GP.        Cook Fm.   9.748233   2.815506    2.802172  ...   \n",
       "832955      VIKING GP.     Draupne Fm.   8.670938        NaN   13.338161  ...   \n",
       "1125647     VIKING GP.  Sognefjord Fm.   8.346808  18.232542  615.140137  ...   \n",
       "322506    SHETLAND GP.  Jorsalfare Fm.  13.526553        NaN    2.468339  ...   \n",
       "134450    NORDLAND GP.      Utsira Fm.  12.473072        NaN    1.271515  ...   \n",
       "67898    HORDALAND GP.      Utsira Fm.  12.824336        NaN    0.829574  ...   \n",
       "727949        BAAT GP.        Ness Fm.  12.333724   2.160253    3.812947  ...   \n",
       "\n",
       "                ROP         DTS      DCAL      DRHO  MUDWEIGHT       RMIC  \\\n",
       "957510          NaN         NaN       NaN -0.030031        NaN        NaN   \n",
       "151835     3.357165         NaN -0.148000 -0.036417   0.149783        NaN   \n",
       "193941   171.428604         NaN       NaN  0.038372   1.090420        NaN   \n",
       "953657          NaN         NaN       NaN -0.014549        NaN   2.698672   \n",
       "832955          NaN         NaN       NaN -0.008000        NaN        NaN   \n",
       "1125647         NaN  161.265976 -0.153191 -0.001694        NaN  17.745361   \n",
       "322506          NaN         NaN  1.276552  0.000000        NaN        NaN   \n",
       "134450    31.716082         NaN       NaN -0.016143        NaN        NaN   \n",
       "67898     12.646891         NaN  0.324336 -0.002829   0.158171        NaN   \n",
       "727949          NaN         NaN       NaN -0.018961        NaN        NaN   \n",
       "\n",
       "              ROPA         RXO  FORCE_2020_LITHOFACIES_LITHOLOGY  \\\n",
       "957510         NaN         NaN                             30000   \n",
       "151835         NaN    0.489633                             30000   \n",
       "193941         NaN         NaN                             65000   \n",
       "953657         NaN    2.699701                             65030   \n",
       "832955   11.890960 -999.000000                             30000   \n",
       "1125647        NaN   20.196136                             30000   \n",
       "322506         NaN         NaN                             80000   \n",
       "134450   31.941462         NaN                             65030   \n",
       "67898          NaN         NaN                             65000   \n",
       "727949         NaN         NaN                             65000   \n",
       "\n",
       "         FORCE_2020_LITHOFACIES_CONFIDENCE  \n",
       "957510                                 1.0  \n",
       "151835                                 1.0  \n",
       "193941                                 1.0  \n",
       "953657                                 1.0  \n",
       "832955                                 1.0  \n",
       "1125647                                1.0  \n",
       "322506                                 1.0  \n",
       "134450                                 2.0  \n",
       "67898                                  1.0  \n",
       "727949                                 1.0  \n",
       "\n",
       "[10 rows x 29 columns]"
      ]
     },
     "execution_count": 3,
     "metadata": {},
     "output_type": "execute_result"
    }
   ],
   "source": [
    "data.sample(10)"
   ]
  },
  {
   "cell_type": "code",
   "execution_count": 4,
   "metadata": {},
   "outputs": [
    {
     "data": {
      "text/plain": [
       "(1170511, 29)"
      ]
     },
     "execution_count": 4,
     "metadata": {},
     "output_type": "execute_result"
    }
   ],
   "source": [
    "data.shape"
   ]
  },
  {
   "cell_type": "markdown",
   "metadata": {},
   "source": [
    "### Outliers"
   ]
  },
  {
   "cell_type": "code",
   "execution_count": 5,
   "metadata": {},
   "outputs": [],
   "source": [
    "data_copy = data.copy()"
   ]
  },
  {
   "cell_type": "code",
   "execution_count": 6,
   "metadata": {},
   "outputs": [
    {
     "data": {
      "text/plain": [
       "463136     2\n",
       "348304     0\n",
       "1021794    1\n",
       "666727     2\n",
       "917535     2\n",
       "745207     2\n",
       "226566     1\n",
       "846470     0\n",
       "845362     2\n",
       "566724     2\n",
       "Name: FORCE_2020_LITHOFACIES_LITHOLOGY, dtype: int64"
      ]
     },
     "execution_count": 6,
     "metadata": {},
     "output_type": "execute_result"
    }
   ],
   "source": [
    "lithology_numbers = {30000: 0,\n",
    "                 65030: 1,\n",
    "                 65000: 2,\n",
    "                 80000: 3,\n",
    "                 74000: 4,\n",
    "                 70000: 5,\n",
    "                 70032: 6,\n",
    "                 88000: 7,\n",
    "                 86000: 8,\n",
    "                 99000: 9,\n",
    "                 90000: 10,\n",
    "                 93000: 11}\n",
    "labels_name = 'FORCE_2020_LITHOFACIES_LITHOLOGY'\n",
    "lit_to_numbers = data_copy[labels_name].map(lithology_numbers)\n",
    "data_copy[labels_name] = lit_to_numbers\n",
    "data_copy[labels_name].sample(10)"
   ]
  },
  {
   "cell_type": "markdown",
   "metadata": {},
   "source": [
    "#### Labels distribution"
   ]
  },
  {
   "cell_type": "code",
   "execution_count": 7,
   "metadata": {},
   "outputs": [
    {
     "data": {
      "image/png": "[encoded data removed]",
      "text/plain": [
       "<Figure size 360x360 with 1 Axes>"
      ]
     },
     "metadata": {
      "needs_background": "light"
     },
     "output_type": "display_data"
    }
   ],
   "source": [
    "sns.displot(data_copy[labels_name], bins=10, kde=True)\n",
    "plt.grid()\n",
    "pass"
   ]
  },
  {
   "cell_type": "code",
   "execution_count": 8,
   "metadata": {},
   "outputs": [
    {
     "data": {
      "image/png": "[encoded data removed]",
      "text/plain": [
       "<Figure size 432x432 with 3 Axes>"
      ]
     },
     "metadata": {
      "needs_background": "light"
     },
     "output_type": "display_data"
    }
   ],
   "source": [
    "sns.jointplot(x='X_LOC', y='Y_LOC', alpha=.05, data=data_copy)\n",
    "pass"
   ]
  },
  {
   "cell_type": "code",
   "execution_count": 9,
   "metadata": {},
   "outputs": [
    {
     "data": {
      "text/plain": [
       "0.005    436797.771094\n",
       "0.010    436809.250000\n",
       "0.050    438424.968750\n",
       "0.100    444158.281250\n",
       "0.500    476920.312500\n",
       "0.900    536841.562500\n",
       "0.950    543917.125000\n",
       "0.990    551801.290625\n",
       "0.995    556075.812500\n",
       "Name: X_LOC, dtype: float64"
      ]
     },
     "execution_count": 9,
     "metadata": {},
     "output_type": "execute_result"
    },
    {
     "data": {
      "image/png": "[encoded data removed]",
      "text/plain": [
       "<Figure size 432x288 with 1 Axes>"
      ]
     },
     "metadata": {
      "needs_background": "light"
     },
     "output_type": "display_data"
    }
   ],
   "source": [
    "sns.boxplot(x=labels_name, y=\"X_LOC\", data=data_copy)\n",
    "data_copy['X_LOC'].quantile([0.005,.01,.05,.1,.5,.9,.95,.99,.995])"
   ]
  },
  {
   "cell_type": "code",
   "execution_count": 10,
   "metadata": {},
   "outputs": [
    {
     "data": {
      "text/plain": [
       "0.005    6406642.0\n",
       "0.010    6406647.0\n",
       "0.050    6452287.5\n",
       "0.100    6468386.0\n",
       "0.500    6737311.0\n",
       "0.900    6812832.0\n",
       "0.950    6829540.5\n",
       "0.990    6847170.5\n",
       "0.995    6853000.0\n",
       "Name: Y_LOC, dtype: float64"
      ]
     },
     "execution_count": 10,
     "metadata": {},
     "output_type": "execute_result"
    },
    {
     "data": {
      "image/png": "[encoded data removed]",
      "text/plain": [
       "<Figure size 432x288 with 1 Axes>"
      ]
     },
     "metadata": {
      "needs_background": "light"
     },
     "output_type": "display_data"
    }
   ],
   "source": [
    "sns.boxplot(x=labels_name, y=\"Y_LOC\", data=data_copy)\n",
    "data_copy['Y_LOC'].quantile([0.005,.01,.05,.1,.5,.9,.95,.99,.995])"
   ]
  },
  {
   "cell_type": "code",
   "execution_count": 11,
   "metadata": {},
   "outputs": [
    {
     "data": {
      "text/plain": [
       "0.005   -4744.577674\n",
       "0.010   -4556.764673\n",
       "0.050   -3872.754150\n",
       "0.100   -3461.883423\n",
       "0.500   -2042.784973\n",
       "0.900    -922.527039\n",
       "0.950    -697.141251\n",
       "0.990    -422.672520\n",
       "0.995    -330.519095\n",
       "Name: Z_LOC, dtype: float64"
      ]
     },
     "execution_count": 11,
     "metadata": {},
     "output_type": "execute_result"
    },
    {
     "data": {
      "image/png": "[encoded data removed]",
      "text/plain": [
       "<Figure size 432x288 with 1 Axes>"
      ]
     },
     "metadata": {
      "needs_background": "light"
     },
     "output_type": "display_data"
    }
   ],
   "source": [
    "sns.boxplot(x=labels_name, y=\"Z_LOC\", data=data_copy)\n",
    "data_copy['Z_LOC'].quantile([0.005,.01,.05,.1,.5,.9,.95,.99,.995])"
   ]
  },
  {
   "cell_type": "markdown",
   "metadata": {},
   "source": [
    "### Drop outliers"
   ]
  },
  {
   "cell_type": "code",
   "execution_count": 12,
   "metadata": {},
   "outputs": [],
   "source": [
    "rows_to_drop = data_copy[\n",
    "    (data_copy['Z_LOC'] < data_copy['Z_LOC'].quantile(0.005)) | (data_copy['Z_LOC'] > data_copy['Z_LOC'].quantile(0.995)) | \n",
    "    (data_copy['X_LOC']  < data_copy['X_LOC' ].quantile(0.005)) | (data_copy['X_LOC']  > data_copy['X_LOC' ].quantile(0.995)) |\n",
    "    (data_copy['Y_LOC']  < data_copy['Y_LOC' ].quantile(0.005)) | (data_copy['Y_LOC']  > data_copy['Y_LOC' ].quantile(0.995))].index\n",
    "data = data.drop(rows_to_drop)"
   ]
  },
  {
   "cell_type": "markdown",
   "metadata": {},
   "source": [
    "### Corr matrix"
   ]
  },
  {
   "cell_type": "code",
   "execution_count": 13,
   "metadata": {},
   "outputs": [],
   "source": [
    "corr_mat = data_copy.corr()\n",
    "corr_mat = corr_mat[corr_mat < 1.0]"
   ]
  },
  {
   "cell_type": "code",
   "execution_count": 14,
   "metadata": {},
   "outputs": [
    {
     "data": {
      "image/png": "[encoded data removed]",
      "text/plain": [
       "<Figure size 432x288 with 2 Axes>"
      ]
     },
     "metadata": {
      "needs_background": "light"
     },
     "output_type": "display_data"
    }
   ],
   "source": [
    "sns.heatmap(corr_mat, square=True, cmap='coolwarm', xticklabels=True, yticklabels=True)\n",
    "pass"
   ]
  },
  {
   "cell_type": "markdown",
   "metadata": {},
   "source": [
    "### Inspecting available logs and interpretations"
   ]
  },
  {
   "cell_type": "markdown",
   "metadata": {},
   "source": [
    "The data contains the metadata columns\n",
    "* WELL: well name\n",
    "* DEPTH_MD: measured depth\n",
    "* X_LOC: UTM X coordinate \n",
    "* Y_LOC: UTM Y coordinate\n",
    "* Z_LOC: DEPTH\n",
    "* GROUP: NPD lithostratigraphy group\n",
    "* FORMATION: NPD lithostratgraphy formation\n",
    "\n",
    "The data contains the well log curves. For example the following:\n",
    "* BS: Bit Size\n",
    "* CALI: Caliper\n",
    "* RDEP: Deep Resistivity\n",
    "* RHOB: Bulk Density\n",
    "* GR: Raw gamma data\n",
    "* SGR: Spectral Gamma Ray\n",
    "* RMED: Medium Resistivity\n",
    "* ROP: Rate of Penetration\n",
    "* NPHI: Neutron Porosity\n",
    "* PEF: Photoelectric Absorption Factor\n",
    "* RSHA: Shallow Resistivity\n",
    "* DTS: Sonic (Sheer Slowness)\n",
    "* DTC: Sonic (Compressional Slowness)\n",
    "\n",
    "See contest page for full list.\n",
    "\n",
    "as well as the interpretation\n",
    "\n",
    "* FORCE_2020_LITHOFACIES_LITHOLOGY: lithology class label\n",
    "* FORCE_2020_LITHOFACIES_CONFIDENCE: confidence in lithology interpretation (1: high, 2: medium, 3: low)"
   ]
  },
  {
   "cell_type": "markdown",
   "metadata": {},
   "source": [
    "There is a total of 83 wells in the training dataset. The `WELL` column is included so the data can be separated per well. This will be necessary for any \"windowed\" approaches where we use non-local information in the ML features. "
   ]
  },
  {
   "cell_type": "code",
   "execution_count": 15,
   "metadata": {
    "scrolled": true
   },
   "outputs": [],
   "source": [
    "wells = data['WELL'].unique()"
   ]
  },
  {
   "cell_type": "code",
   "execution_count": 16,
   "metadata": {},
   "outputs": [
    {
     "data": {
      "text/plain": [
       "array(['15/9-13', '15/9-15', '15/9-17', '16/1-2', '16/1-6 A', '16/10-1',\n",
       "       '16/10-2', '16/10-3', '16/10-5', '16/11-1 ST3', '16/2-11 A',\n",
       "       '16/2-16', '16/2-6', '16/4-1', '16/5-3', '16/7-4', '16/7-5',\n",
       "       '16/8-1', '17/11-1', '25/11-15', '25/11-19 S', '25/11-5',\n",
       "       '25/2-13 T4', '25/2-14', '25/2-7', '25/3-1', '25/4-5', '25/5-1',\n",
       "       '25/5-4', '25/6-1', '25/6-2', '25/6-3', '25/7-2', '25/8-5 S',\n",
       "       '25/8-7', '25/9-1', '26/4-1', '29/6-1', '30/3-3', '30/3-5 S',\n",
       "       '30/6-5', '31/2-1', '31/2-19 S', '31/2-7', '31/2-8', '31/2-9',\n",
       "       '31/3-1', '31/3-2', '31/3-3', '31/3-4', '31/4-10', '31/4-5',\n",
       "       '31/5-4 S', '31/6-5', '31/6-8', '32/2-1', '33/6-3 S', '33/9-1',\n",
       "       '33/9-17', '34/10-19', '34/10-21', '34/10-33', '34/10-35',\n",
       "       '34/11-1', '34/11-2 S', '34/12-1', '34/2-4', '34/3-1 A',\n",
       "       '34/4-10 R', '34/5-1 A', '34/5-1 S', '34/7-13', '34/7-20',\n",
       "       '34/7-21', '34/8-1', '34/8-3', '34/8-7 R', '35/11-1', '35/11-10',\n",
       "       '35/11-11', '35/11-12', '35/11-13', '35/11-15 S', '35/11-6',\n",
       "       '35/11-7', '35/12-1', '35/4-1', '35/8-4', '35/8-6 S', '35/9-10 S',\n",
       "       '35/9-2', '35/9-5', '35/9-6 S', '36/7-3', '7/1-1', '7/1-2 S'],\n",
       "      dtype=object)"
      ]
     },
     "execution_count": 16,
     "metadata": {},
     "output_type": "execute_result"
    }
   ],
   "source": [
    "wells"
   ]
  },
  {
   "cell_type": "code",
   "execution_count": 17,
   "metadata": {},
   "outputs": [
    {
     "data": {
      "text/plain": [
       "96"
      ]
     },
     "execution_count": 17,
     "metadata": {},
     "output_type": "execute_result"
    }
   ],
   "source": [
    "len(wells)"
   ]
  },
  {
   "cell_type": "markdown",
   "metadata": {},
   "source": [
    "### The LITHOLOGY column"
   ]
  },
  {
   "cell_type": "markdown",
   "metadata": {},
   "source": [
    "The LITHOLOGY column contains the interpretation. Each number corresponds to a lithology class, given by the following list:"
   ]
  },
  {
   "cell_type": "code",
   "execution_count": 18,
   "metadata": {},
   "outputs": [],
   "source": [
    "lithology_keys = {30000: 'Sandstone',\n",
    "                 65030: 'Sandstone/Shale',\n",
    "                 65000: 'Shale',\n",
    "                 80000: 'Marl',\n",
    "                 74000: 'Dolomite',\n",
    "                 70000: 'Limestone',\n",
    "                 70032: 'Chalk',\n",
    "                 88000: 'Halite',\n",
    "                 86000: 'Anhydrite',\n",
    "                 99000: 'Tuff',\n",
    "                 90000: 'Coal',\n",
    "                 93000: 'Basement'}"
   ]
  },
  {
   "cell_type": "code",
   "execution_count": 19,
   "metadata": {},
   "outputs": [
    {
     "data": {
      "text/plain": [
       "array([65000, 30000, 65030, 70000, 99000, 80000, 86000, 74000, 70032,\n",
       "       90000, 88000, 93000])"
      ]
     },
     "execution_count": 19,
     "metadata": {},
     "output_type": "execute_result"
    }
   ],
   "source": [
    "data['FORCE_2020_LITHOFACIES_LITHOLOGY'].unique()"
   ]
  },
  {
   "cell_type": "markdown",
   "metadata": {},
   "source": [
    "Lithologies are not equally likely. This is reflected in this dataset."
   ]
  },
  {
   "cell_type": "code",
   "execution_count": 20,
   "metadata": {},
   "outputs": [
    {
     "name": "stderr",
     "output_type": "stream",
     "text": [
      "<ipython-input-20-0dac7bdbb0db>:10: UserWarning: FixedFormatter should only be used together with FixedLocator\n",
      "  ax.set_xticklabels(names, rotation=45)\n"
     ]
    },
    {
     "data": {
      "text/plain": [
       "Text(0, 0.5, 'Lithology presence (\\\\%)')"
      ]
     },
     "execution_count": 20,
     "metadata": {},
     "output_type": "execute_result"
    },
    {
     "data": {
      "image/png": "[encoded data removed]",
      "text/plain": [
       "<Figure size 1008x504 with 1 Axes>"
      ]
     },
     "metadata": {
      "needs_background": "light"
     },
     "output_type": "display_data"
    }
   ],
   "source": [
    "counts = data['FORCE_2020_LITHOFACIES_LITHOLOGY'].value_counts()\n",
    "names = []\n",
    "percentage = []\n",
    "N = data['FORCE_2020_LITHOFACIES_LITHOLOGY'].shape[0]\n",
    "for item in counts.iteritems():\n",
    "    names.append(lithology_keys[item[0]])\n",
    "    percentage.append(float(item[1])/N*100)\n",
    "fig, ax = plt.subplots(1, 1, figsize=(14, 7))\n",
    "ax.bar(x=np.arange(len(names)), height=percentage)\n",
    "ax.set_xticklabels(names, rotation=45)\n",
    "ax.set_xticks(np.arange(len(names)))\n",
    "ax.set_ylabel('Lithology presence (\\%)')"
   ]
  },
  {
   "cell_type": "markdown",
   "metadata": {},
   "source": [
    "### Missing logs"
   ]
  },
  {
   "cell_type": "markdown",
   "metadata": {},
   "source": [
    "**Notice that some of the curves are NaN. This is an imporant aspect of this dataset and of this competition.** The only log columns that are **guaranteed** to be present are WELL, DEPT, and GR. All other logs can (and will) be missing from some parts of the dataset."
   ]
  },
  {
   "cell_type": "code",
   "execution_count": 21,
   "metadata": {},
   "outputs": [
    {
     "data": {
      "text/plain": [
       "WELL                                 False\n",
       "DEPTH_MD                             False\n",
       "X_LOC                                 True\n",
       "Y_LOC                                 True\n",
       "Z_LOC                                 True\n",
       "GROUP                                 True\n",
       "FORMATION                             True\n",
       "CALI                                  True\n",
       "RSHA                                  True\n",
       "RMED                                  True\n",
       "RDEP                                  True\n",
       "RHOB                                  True\n",
       "GR                                   False\n",
       "SGR                                   True\n",
       "NPHI                                  True\n",
       "PEF                                   True\n",
       "DTC                                   True\n",
       "SP                                    True\n",
       "BS                                    True\n",
       "ROP                                   True\n",
       "DTS                                   True\n",
       "DCAL                                  True\n",
       "DRHO                                  True\n",
       "MUDWEIGHT                             True\n",
       "RMIC                                  True\n",
       "ROPA                                  True\n",
       "RXO                                   True\n",
       "FORCE_2020_LITHOFACIES_LITHOLOGY     False\n",
       "FORCE_2020_LITHOFACIES_CONFIDENCE     True\n",
       "dtype: bool"
      ]
     },
     "execution_count": 21,
     "metadata": {},
     "output_type": "execute_result"
    }
   ],
   "source": [
    "data.isna().any()"
   ]
  },
  {
   "cell_type": "code",
   "execution_count": 22,
   "metadata": {
    "scrolled": true
   },
   "outputs": [
    {
     "data": {
      "text/plain": [
       "WELL                                       0\n",
       "DEPTH_MD                                   0\n",
       "X_LOC                                  10775\n",
       "Y_LOC                                  10775\n",
       "Z_LOC                                  10775\n",
       "GROUP                                   1232\n",
       "FORMATION                             131195\n",
       "CALI                                   83668\n",
       "RSHA                                  525914\n",
       "RMED                                   38876\n",
       "RDEP                                   11015\n",
       "RHOB                                  156970\n",
       "GR                                         0\n",
       "SGR                                  1067602\n",
       "NPHI                                  399177\n",
       "PEF                                   480898\n",
       "DTC                                    77182\n",
       "SP                                    292229\n",
       "BS                                    481667\n",
       "ROP                                   622363\n",
       "DTS                                   969330\n",
       "DCAL                                  844808\n",
       "DRHO                                  178478\n",
       "MUDWEIGHT                             828512\n",
       "RMIC                                  966233\n",
       "ROPA                                  956183\n",
       "RXO                                   813682\n",
       "FORCE_2020_LITHOFACIES_LITHOLOGY           0\n",
       "FORCE_2020_LITHOFACIES_CONFIDENCE        159\n",
       "dtype: int64"
      ]
     },
     "execution_count": 22,
     "metadata": {},
     "output_type": "execute_result"
    }
   ],
   "source": [
    "data.isna().sum()"
   ]
  },
  {
   "cell_type": "markdown",
   "metadata": {},
   "source": [
    "### Procent of Nan's at the dataset"
   ]
  },
  {
   "cell_type": "code",
   "execution_count": 23,
   "metadata": {},
   "outputs": [
    {
     "name": "stdout",
     "output_type": "stream",
     "text": [
      "Total procent of Nan's at the dataset 30.20742\n"
     ]
    }
   ],
   "source": [
    "count_nan = 0\n",
    "for i in data.isna().sum():\n",
    "    count_nan += i\n",
    "print(f\"Total procent of Nan's at the dataset {count_nan/(data.shape[0]*data.shape[1])*100:.5f}\")"
   ]
  },
  {
   "cell_type": "code",
   "execution_count": null,
   "metadata": {},
   "outputs": [],
   "source": []
  },
  {
   "cell_type": "markdown",
   "metadata": {},
   "source": [
    "The following plot shows how large a percentage of training data wells contain at least some depth interval with the given logs. As you can see a couple of logs like RT and DTS are present in less than half of the training wells. **Remember, the test data will have a similar distribution of available logs**"
   ]
  },
  {
   "cell_type": "code",
   "execution_count": 24,
   "metadata": {},
   "outputs": [
    {
     "name": "stderr",
     "output_type": "stream",
     "text": [
      "<ipython-input-24-3e496e06d9ed>:6: UserWarning: FixedFormatter should only be used together with FixedLocator\n",
      "  ax.set_xticklabels(data.columns[2:-2], rotation=45)\n"
     ]
    },
    {
     "data": {
      "text/plain": [
       "Text(0, 0.5, 'Well presence (\\\\%)')"
      ]
     },
     "execution_count": 24,
     "metadata": {},
     "output_type": "execute_result"
    },
    {
     "data": {
      "image/png": "[encoded data removed]",
      "text/plain": [
       "<Figure size 1008x504 with 1 Axes>"
      ]
     },
     "metadata": {
      "needs_background": "light"
     },
     "output_type": "display_data"
    }
   ],
   "source": [
    "occurences = np.zeros(25)\n",
    "for well in data['WELL'].unique():\n",
    "    occurences += data[data['WELL'] == well].isna().all().astype(int).values[2:-2]\n",
    "fig, ax = plt.subplots(1, 1, figsize=(14, 7))\n",
    "ax.bar(x=np.arange(occurences.shape[0]), height=(data.WELL.unique().shape[0]-occurences)/data.WELL.unique().shape[0]*100.0)\n",
    "ax.set_xticklabels(data.columns[2:-2], rotation=45)\n",
    "ax.set_xticks(np.arange(occurences.shape[0]))\n",
    "ax.set_ylabel('Well presence (\\%)')"
   ]
  },
  {
   "cell_type": "markdown",
   "metadata": {},
   "source": [
    "#### Look at some log curves for a couple of wells"
   ]
  },
  {
   "cell_type": "code",
   "execution_count": 25,
   "metadata": {
    "scrolled": false
   },
   "outputs": [
    {
     "data": {
      "text/plain": [
       "(3272.0240000000003, 494.528)"
      ]
     },
     "execution_count": 25,
     "metadata": {},
     "output_type": "execute_result"
    },
    {
     "data": {
      "image/png": "[encoded data removed]",
      "text/plain": [
       "<Figure size 1008x720 with 20 Axes>"
      ]
     },
     "metadata": {
      "needs_background": "light"
     },
     "output_type": "display_data"
    }
   ],
   "source": [
    "well_data = data[data['WELL'] == wells[0]]\n",
    "fig, axs = plt.subplots(1, len(well_data.columns)-9, figsize=(14, 10), sharey=True)\n",
    "for ic, col in enumerate(set(well_data.columns)-set(['DEPTH_MD', 'FORCE_2020_LITHOFACIES_LITHOLOGY',\n",
    "                                                     'FORCE_2020_LITHOFACIES_CONFIDENCE', 'WELL', 'GROUP', 'FORMATION',\n",
    "                                                    'X_LOC', 'Y_LOC', 'Z_LOC'])):\n",
    "    axs[ic].plot(well_data[col], well_data['DEPTH_MD'])\n",
    "    axs[ic].set_xlabel(col)\n",
    "axs[0].set_ylim(well_data['DEPTH_MD'].values[-1], well_data['DEPTH_MD'].values[0])"
   ]
  },
  {
   "cell_type": "code",
   "execution_count": 26,
   "metadata": {},
   "outputs": [
    {
     "data": {
      "text/plain": [
       "(3118.218, 488.77)"
      ]
     },
     "execution_count": 26,
     "metadata": {},
     "output_type": "execute_result"
    },
    {
     "data": {
      "image/png": "[encoded data removed]",
      "text/plain": [
       "<Figure size 1008x720 with 20 Axes>"
      ]
     },
     "metadata": {
      "needs_background": "light"
     },
     "output_type": "display_data"
    }
   ],
   "source": [
    "well_data = data[data['WELL'] == wells[57]]\n",
    "fig, axs = plt.subplots(1, len(well_data.columns)-9, figsize=(14, 10), sharey=True)\n",
    "for ic, col in enumerate(set(well_data.columns)-set(['DEPTH_MD', 'FORCE_2020_LITHOFACIES_LITHOLOGY',\n",
    "                                                     'FORCE_2020_LITHOFACIES_CONFIDENCE', 'WELL', 'GROUP', 'FORMATION',\n",
    "                                                    'X_LOC', 'Y_LOC', 'Z_LOC'])):\n",
    "    axs[ic].plot(well_data[col], well_data['DEPTH_MD'])\n",
    "    axs[ic].set_xlabel(col)\n",
    "axs[0].set_ylim(well_data['DEPTH_MD'].values[-1], well_data['DEPTH_MD'].values[0])"
   ]
  },
  {
   "cell_type": "markdown",
   "metadata": {},
   "source": [
    "### Preparing data for training"
   ]
  },
  {
   "cell_type": "code",
   "execution_count": 27,
   "metadata": {},
   "outputs": [],
   "source": [
    "X = data.drop(columns=['WELL', 'FORCE_2020_LITHOFACIES_LITHOLOGY', 'FORCE_2020_LITHOFACIES_CONFIDENCE'])"
   ]
  },
  {
   "cell_type": "markdown",
   "metadata": {},
   "source": [
    "##### As a simple approach we replace nan with zero and hope for the best"
   ]
  },
  {
   "cell_type": "code",
   "execution_count": 28,
   "metadata": {},
   "outputs": [
    {
     "data": {
      "text/plain": [
       "Index(['DEPTH_MD', 'X_LOC', 'Y_LOC', 'Z_LOC', 'GROUP', 'FORMATION', 'CALI',\n",
       "       'RSHA', 'RMED', 'RDEP', 'RHOB', 'GR', 'SGR', 'NPHI', 'PEF', 'DTC', 'SP',\n",
       "       'BS', 'ROP', 'DTS', 'DCAL', 'DRHO', 'MUDWEIGHT', 'RMIC', 'ROPA', 'RXO'],\n",
       "      dtype='object')"
      ]
     },
     "execution_count": 28,
     "metadata": {},
     "output_type": "execute_result"
    }
   ],
   "source": [
    "X.columns"
   ]
  },
  {
   "cell_type": "code",
   "execution_count": 29,
   "metadata": {},
   "outputs": [],
   "source": [
    "X.fillna(X.median(axis = 0), axis=0 , inplace=True)"
   ]
  },
  {
   "cell_type": "code",
   "execution_count": 30,
   "metadata": {},
   "outputs": [
    {
     "data": {
      "text/plain": [
       "DEPTH_MD          0\n",
       "X_LOC             0\n",
       "Y_LOC             0\n",
       "Z_LOC             0\n",
       "GROUP          1232\n",
       "FORMATION    131195\n",
       "CALI              0\n",
       "RSHA              0\n",
       "RMED              0\n",
       "RDEP              0\n",
       "RHOB              0\n",
       "GR                0\n",
       "SGR               0\n",
       "NPHI              0\n",
       "PEF               0\n",
       "DTC               0\n",
       "SP                0\n",
       "BS                0\n",
       "ROP               0\n",
       "DTS               0\n",
       "DCAL              0\n",
       "DRHO              0\n",
       "MUDWEIGHT         0\n",
       "RMIC              0\n",
       "ROPA              0\n",
       "RXO               0\n",
       "dtype: int64"
      ]
     },
     "execution_count": 30,
     "metadata": {},
     "output_type": "execute_result"
    }
   ],
   "source": [
    "X.isna().sum()"
   ]
  },
  {
   "cell_type": "code",
   "execution_count": 31,
   "metadata": {},
   "outputs": [],
   "source": [
    "X['GROUP'].fillna(X['GROUP'].mode().iloc[0], inplace=True)\n",
    "X['FORMATION'].fillna(X['FORMATION'].mode().iloc[0], inplace=True)"
   ]
  },
  {
   "cell_type": "code",
   "execution_count": 32,
   "metadata": {},
   "outputs": [
    {
     "data": {
      "text/plain": [
       "DEPTH_MD     0\n",
       "X_LOC        0\n",
       "Y_LOC        0\n",
       "Z_LOC        0\n",
       "GROUP        0\n",
       "FORMATION    0\n",
       "CALI         0\n",
       "RSHA         0\n",
       "RMED         0\n",
       "RDEP         0\n",
       "RHOB         0\n",
       "GR           0\n",
       "SGR          0\n",
       "NPHI         0\n",
       "PEF          0\n",
       "DTC          0\n",
       "SP           0\n",
       "BS           0\n",
       "ROP          0\n",
       "DTS          0\n",
       "DCAL         0\n",
       "DRHO         0\n",
       "MUDWEIGHT    0\n",
       "RMIC         0\n",
       "ROPA         0\n",
       "RXO          0\n",
       "dtype: int64"
      ]
     },
     "execution_count": 32,
     "metadata": {},
     "output_type": "execute_result"
    }
   ],
   "source": [
    "X.isna().sum()"
   ]
  },
  {
   "cell_type": "code",
   "execution_count": 33,
   "metadata": {},
   "outputs": [
    {
     "data": {
      "text/plain": [
       "array(['NORDLAND GP.', 'HORDALAND GP.', 'ROGALAND GP.', 'SHETLAND GP.',\n",
       "       'CROMER KNOLL GP.', 'VIKING GP.', 'VESTLAND GP.', 'ZECHSTEIN GP.',\n",
       "       'HEGRE GP.', 'ROTLIEGENDES GP.', 'TYNE GP.', 'BOKNFJORD GP.',\n",
       "       'DUNLIN GP.', 'BAAT GP.'], dtype=object)"
      ]
     },
     "execution_count": 33,
     "metadata": {},
     "output_type": "execute_result"
    }
   ],
   "source": [
    "X['GROUP'].unique()"
   ]
  },
  {
   "cell_type": "code",
   "execution_count": 34,
   "metadata": {},
   "outputs": [
    {
     "data": {
      "text/plain": [
       "array(['Utsira Fm.', 'Balder Fm.', 'Sele Fm.', 'Lista Fm.', 'Heimdal Fm.',\n",
       "       'Tor Fm.', 'Hod Fm.', 'Blodoeks Fm.', 'Svarte Fm.', 'Roedby Fm.',\n",
       "       'Sola Fm.', 'Aasgard Fm.', 'Draupne Fm.', 'Heather Fm.',\n",
       "       'Hugin Fm.', 'Smith Bank Fm.', 'Frigg Fm.', 'Skagerrak Fm.',\n",
       "       'Ekofisk Fm.', 'Kupferschiefer Fm.', 'Skade Fm.', 'Grid Fm.',\n",
       "       'Vaale Fm.', 'Sleipner Fm.', 'Hidra Fm.', 'Tuxen Fm.',\n",
       "       'Mandal Fm.', 'Ula Fm.', 'Bryne Fm.', 'Tau Fm.', 'Sandnes Fm.',\n",
       "       'Intra Draupne Fm. Sst.', 'Statfjord Fm.', 'Skade Mb.', 'BASEMENT',\n",
       "       'Ran Sst Mb.', 'Flekkefjord Fm.', 'Sauda Fm.', 'Egersund Fm.',\n",
       "       'Intra Balder Fm. Sst.', 'Hermod Mb.', 'Ty Fm.', 'Hardraade Fm.',\n",
       "       'Kyrre Fm.', 'Tryggvason Fm.', 'Drake Fm.', 'Cook Fm.',\n",
       "       'Amundsen Fm.', 'Grid Mb.', 'Ty Mb.', 'Jorsalfare Fm.',\n",
       "       'Burton Fm.', 'Mime Fm.', 'Intra Heather Fm. Sst.', 'Tarbert Fm.',\n",
       "       'Ness Fm.', 'Etive Fm.', 'Rannoch Fm.', 'Broom Fm.', 'Lunde Fm.',\n",
       "       'Oseberg Fm.', 'Sognefjord Fm.', 'Fensfjord Fm.', 'Krossfjord Fm.',\n",
       "       'Johansen Fm.', 'Eiriksson Mb.', 'Raude Mb.', 'Agat Fm.',\n",
       "       'Farsund Fm.'], dtype=object)"
      ]
     },
     "execution_count": 34,
     "metadata": {},
     "output_type": "execute_result"
    }
   ],
   "source": [
    "X['FORMATION'].unique()"
   ]
  },
  {
   "cell_type": "code",
   "execution_count": 35,
   "metadata": {},
   "outputs": [],
   "source": [
    "X['FORMATION'] = X['FORMATION'].astype('category')"
   ]
  },
  {
   "cell_type": "code",
   "execution_count": 36,
   "metadata": {},
   "outputs": [],
   "source": [
    "X['GROUP'] = X['GROUP'].astype('category')"
   ]
  },
  {
   "cell_type": "code",
   "execution_count": 37,
   "metadata": {},
   "outputs": [],
   "source": [
    "cat_columns = X.select_dtypes(['category']).columns"
   ]
  },
  {
   "cell_type": "code",
   "execution_count": 38,
   "metadata": {},
   "outputs": [],
   "source": [
    "X[cat_columns] = X[cat_columns].apply(lambda x: x.cat.codes)"
   ]
  },
  {
   "cell_type": "code",
   "execution_count": 39,
   "metadata": {},
   "outputs": [
    {
     "data": {
      "text/plain": [
       "Index([], dtype='object')"
      ]
     },
     "execution_count": 39,
     "metadata": {},
     "output_type": "execute_result"
    }
   ],
   "source": [
    "X.select_dtypes(['category']).columns"
   ]
  },
  {
   "cell_type": "markdown",
   "metadata": {},
   "source": [
    "#### We should convert lithology labels to numbers 0-11 before training"
   ]
  },
  {
   "cell_type": "code",
   "execution_count": 40,
   "metadata": {},
   "outputs": [],
   "source": [
    "y = data['FORCE_2020_LITHOFACIES_LITHOLOGY']"
   ]
  },
  {
   "cell_type": "code",
   "execution_count": 41,
   "metadata": {},
   "outputs": [],
   "source": [
    "lithology_numbers = {30000: 0,\n",
    "                 65030: 1,\n",
    "                 65000: 2,\n",
    "                 80000: 3,\n",
    "                 74000: 4,\n",
    "                 70000: 5,\n",
    "                 70032: 6,\n",
    "                 88000: 7,\n",
    "                 86000: 8,\n",
    "                 99000: 9,\n",
    "                 90000: 10,\n",
    "                 93000: 11}"
   ]
  },
  {
   "cell_type": "code",
   "execution_count": 42,
   "metadata": {},
   "outputs": [],
   "source": [
    "y = y.map(lithology_numbers)"
   ]
  },
  {
   "cell_type": "markdown",
   "metadata": {},
   "source": [
    "##### Lithologies are not equally likely. Probably smart to take this into account by computing class weights"
   ]
  },
  {
   "cell_type": "code",
   "execution_count": 43,
   "metadata": {},
   "outputs": [
    {
     "data": {
      "text/plain": [
       "array([160378, 144762, 704677,  33009,   1688,  55538,   8472,   8213,\n",
       "         1085,  15245,   3762,    103])"
      ]
     },
     "execution_count": 43,
     "metadata": {},
     "output_type": "execute_result"
    }
   ],
   "source": [
    "np.bincount(y)"
   ]
  },
  {
   "cell_type": "markdown",
   "metadata": {},
   "source": [
    "##### Shuffle the data"
   ]
  },
  {
   "cell_type": "code",
   "execution_count": 44,
   "metadata": {},
   "outputs": [],
   "source": [
    "X, y = shuffle(X, y, random_state=42)"
   ]
  },
  {
   "cell_type": "code",
   "execution_count": 45,
   "metadata": {
    "scrolled": false
   },
   "outputs": [
    {
     "data": {
      "text/html": [
       "<div>\n",
       "<style scoped>\n",
       "    .dataframe tbody tr th:only-of-type {\n",
       "        vertical-align: middle;\n",
       "    }\n",
       "\n",
       "    .dataframe tbody tr th {\n",
       "        vertical-align: top;\n",
       "    }\n",
       "\n",
       "    .dataframe thead th {\n",
       "        text-align: right;\n",
       "    }\n",
       "</style>\n",
       "<table border=\"1\" class=\"dataframe\">\n",
       "  <thead>\n",
       "    <tr style=\"text-align: right;\">\n",
       "      <th></th>\n",
       "      <th>DEPTH_MD</th>\n",
       "      <th>X_LOC</th>\n",
       "      <th>Y_LOC</th>\n",
       "      <th>Z_LOC</th>\n",
       "      <th>GROUP</th>\n",
       "      <th>FORMATION</th>\n",
       "      <th>CALI</th>\n",
       "      <th>RSHA</th>\n",
       "      <th>RMED</th>\n",
       "      <th>RDEP</th>\n",
       "      <th>...</th>\n",
       "      <th>SP</th>\n",
       "      <th>BS</th>\n",
       "      <th>ROP</th>\n",
       "      <th>DTS</th>\n",
       "      <th>DCAL</th>\n",
       "      <th>DRHO</th>\n",
       "      <th>MUDWEIGHT</th>\n",
       "      <th>RMIC</th>\n",
       "      <th>ROPA</th>\n",
       "      <th>RXO</th>\n",
       "    </tr>\n",
       "  </thead>\n",
       "  <tbody>\n",
       "    <tr>\n",
       "      <th>876095</th>\n",
       "      <td>3974.002467</td>\n",
       "      <td>450938.18750</td>\n",
       "      <td>6832991.0</td>\n",
       "      <td>-3948.305908</td>\n",
       "      <td>9</td>\n",
       "      <td>36</td>\n",
       "      <td>8.508841</td>\n",
       "      <td>1.395567</td>\n",
       "      <td>8.985200</td>\n",
       "      <td>14.833700</td>\n",
       "      <td>...</td>\n",
       "      <td>55.644119</td>\n",
       "      <td>8.500000</td>\n",
       "      <td>60.287792</td>\n",
       "      <td>129.364151</td>\n",
       "      <td>0.562609</td>\n",
       "      <td>0.006275</td>\n",
       "      <td>0.155774</td>\n",
       "      <td>1.895624</td>\n",
       "      <td>0.053372</td>\n",
       "      <td>1.352974</td>\n",
       "    </tr>\n",
       "    <tr>\n",
       "      <th>1117177</th>\n",
       "      <td>3442.045600</td>\n",
       "      <td>537910.12500</td>\n",
       "      <td>6791149.5</td>\n",
       "      <td>-2931.918457</td>\n",
       "      <td>12</td>\n",
       "      <td>23</td>\n",
       "      <td>8.568926</td>\n",
       "      <td>1.395567</td>\n",
       "      <td>8.759437</td>\n",
       "      <td>9.023527</td>\n",
       "      <td>...</td>\n",
       "      <td>55.644119</td>\n",
       "      <td>8.500000</td>\n",
       "      <td>28.726419</td>\n",
       "      <td>138.965683</td>\n",
       "      <td>0.562609</td>\n",
       "      <td>0.152209</td>\n",
       "      <td>0.155774</td>\n",
       "      <td>1.895624</td>\n",
       "      <td>20.209679</td>\n",
       "      <td>1.352974</td>\n",
       "    </tr>\n",
       "    <tr>\n",
       "      <th>605573</th>\n",
       "      <td>1219.477000</td>\n",
       "      <td>539998.75000</td>\n",
       "      <td>6738654.0</td>\n",
       "      <td>-1196.312744</td>\n",
       "      <td>7</td>\n",
       "      <td>37</td>\n",
       "      <td>12.580236</td>\n",
       "      <td>1.395567</td>\n",
       "      <td>0.808332</td>\n",
       "      <td>0.812674</td>\n",
       "      <td>...</td>\n",
       "      <td>72.077728</td>\n",
       "      <td>12.250001</td>\n",
       "      <td>17.841936</td>\n",
       "      <td>190.850754</td>\n",
       "      <td>0.562609</td>\n",
       "      <td>0.109000</td>\n",
       "      <td>0.155774</td>\n",
       "      <td>1.895624</td>\n",
       "      <td>20.209679</td>\n",
       "      <td>1.352974</td>\n",
       "    </tr>\n",
       "    <tr>\n",
       "      <th>1111800</th>\n",
       "      <td>3681.606800</td>\n",
       "      <td>518361.87500</td>\n",
       "      <td>6798609.5</td>\n",
       "      <td>-3328.262695</td>\n",
       "      <td>12</td>\n",
       "      <td>11</td>\n",
       "      <td>8.310400</td>\n",
       "      <td>1.395567</td>\n",
       "      <td>3.214384</td>\n",
       "      <td>3.324235</td>\n",
       "      <td>...</td>\n",
       "      <td>55.644119</td>\n",
       "      <td>8.500000</td>\n",
       "      <td>21.489962</td>\n",
       "      <td>203.214615</td>\n",
       "      <td>0.562609</td>\n",
       "      <td>-0.008599</td>\n",
       "      <td>0.155774</td>\n",
       "      <td>1.895624</td>\n",
       "      <td>16.890213</td>\n",
       "      <td>1.352974</td>\n",
       "    </tr>\n",
       "    <tr>\n",
       "      <th>583721</th>\n",
       "      <td>2243.956980</td>\n",
       "      <td>526935.31250</td>\n",
       "      <td>6758511.0</td>\n",
       "      <td>-2218.817871</td>\n",
       "      <td>12</td>\n",
       "      <td>17</td>\n",
       "      <td>11.891605</td>\n",
       "      <td>3.400194</td>\n",
       "      <td>1.616194</td>\n",
       "      <td>1.254601</td>\n",
       "      <td>...</td>\n",
       "      <td>62.933037</td>\n",
       "      <td>12.250001</td>\n",
       "      <td>17.841936</td>\n",
       "      <td>190.850754</td>\n",
       "      <td>0.562609</td>\n",
       "      <td>0.022718</td>\n",
       "      <td>0.155774</td>\n",
       "      <td>1.895624</td>\n",
       "      <td>20.209679</td>\n",
       "      <td>2.710180</td>\n",
       "    </tr>\n",
       "    <tr>\n",
       "      <th>...</th>\n",
       "      <td>...</td>\n",
       "      <td>...</td>\n",
       "      <td>...</td>\n",
       "      <td>...</td>\n",
       "      <td>...</td>\n",
       "      <td>...</td>\n",
       "      <td>...</td>\n",
       "      <td>...</td>\n",
       "      <td>...</td>\n",
       "      <td>...</td>\n",
       "      <td>...</td>\n",
       "      <td>...</td>\n",
       "      <td>...</td>\n",
       "      <td>...</td>\n",
       "      <td>...</td>\n",
       "      <td>...</td>\n",
       "      <td>...</td>\n",
       "      <td>...</td>\n",
       "      <td>...</td>\n",
       "      <td>...</td>\n",
       "      <td>...</td>\n",
       "    </tr>\n",
       "    <tr>\n",
       "      <th>111976</th>\n",
       "      <td>2879.161201</td>\n",
       "      <td>476914.03125</td>\n",
       "      <td>6732115.5</td>\n",
       "      <td>-2024.679077</td>\n",
       "      <td>13</td>\n",
       "      <td>54</td>\n",
       "      <td>12.336412</td>\n",
       "      <td>1.395567</td>\n",
       "      <td>1.425520</td>\n",
       "      <td>1.421928</td>\n",
       "      <td>...</td>\n",
       "      <td>55.644119</td>\n",
       "      <td>12.250001</td>\n",
       "      <td>5.492826</td>\n",
       "      <td>190.850754</td>\n",
       "      <td>0.562609</td>\n",
       "      <td>0.001668</td>\n",
       "      <td>1.401969</td>\n",
       "      <td>1.895624</td>\n",
       "      <td>20.209679</td>\n",
       "      <td>1.352974</td>\n",
       "    </tr>\n",
       "    <tr>\n",
       "      <th>262169</th>\n",
       "      <td>3488.665901</td>\n",
       "      <td>476898.78125</td>\n",
       "      <td>6625397.5</td>\n",
       "      <td>-3463.175781</td>\n",
       "      <td>3</td>\n",
       "      <td>53</td>\n",
       "      <td>9.194545</td>\n",
       "      <td>6.442646</td>\n",
       "      <td>4.962753</td>\n",
       "      <td>5.554353</td>\n",
       "      <td>...</td>\n",
       "      <td>72.257416</td>\n",
       "      <td>8.500000</td>\n",
       "      <td>17.841936</td>\n",
       "      <td>190.850754</td>\n",
       "      <td>0.694545</td>\n",
       "      <td>0.046465</td>\n",
       "      <td>0.155774</td>\n",
       "      <td>1.895624</td>\n",
       "      <td>20.209679</td>\n",
       "      <td>1.352974</td>\n",
       "    </tr>\n",
       "    <tr>\n",
       "      <th>133640</th>\n",
       "      <td>802.370799</td>\n",
       "      <td>477772.03125</td>\n",
       "      <td>6520634.0</td>\n",
       "      <td>-776.325073</td>\n",
       "      <td>6</td>\n",
       "      <td>67</td>\n",
       "      <td>12.425052</td>\n",
       "      <td>1.395567</td>\n",
       "      <td>1.446045</td>\n",
       "      <td>1.867751</td>\n",
       "      <td>...</td>\n",
       "      <td>55.644119</td>\n",
       "      <td>12.250001</td>\n",
       "      <td>18.451122</td>\n",
       "      <td>190.850754</td>\n",
       "      <td>0.562609</td>\n",
       "      <td>-0.004699</td>\n",
       "      <td>0.155774</td>\n",
       "      <td>1.895624</td>\n",
       "      <td>24.932571</td>\n",
       "      <td>1.352974</td>\n",
       "    </tr>\n",
       "    <tr>\n",
       "      <th>678675</th>\n",
       "      <td>1070.415000</td>\n",
       "      <td>544111.31250</td>\n",
       "      <td>6720734.0</td>\n",
       "      <td>-1047.373779</td>\n",
       "      <td>7</td>\n",
       "      <td>49</td>\n",
       "      <td>12.580236</td>\n",
       "      <td>1.395567</td>\n",
       "      <td>0.766144</td>\n",
       "      <td>0.936068</td>\n",
       "      <td>...</td>\n",
       "      <td>13.861520</td>\n",
       "      <td>12.250001</td>\n",
       "      <td>17.841936</td>\n",
       "      <td>190.850754</td>\n",
       "      <td>0.562609</td>\n",
       "      <td>-0.013680</td>\n",
       "      <td>0.155774</td>\n",
       "      <td>1.895624</td>\n",
       "      <td>20.209679</td>\n",
       "      <td>1.352974</td>\n",
       "    </tr>\n",
       "    <tr>\n",
       "      <th>123666</th>\n",
       "      <td>759.206396</td>\n",
       "      <td>476768.25000</td>\n",
       "      <td>6523588.0</td>\n",
       "      <td>-732.841736</td>\n",
       "      <td>6</td>\n",
       "      <td>67</td>\n",
       "      <td>12.773593</td>\n",
       "      <td>1.395567</td>\n",
       "      <td>1.408777</td>\n",
       "      <td>1.415868</td>\n",
       "      <td>...</td>\n",
       "      <td>55.644119</td>\n",
       "      <td>12.250001</td>\n",
       "      <td>34.084076</td>\n",
       "      <td>190.850754</td>\n",
       "      <td>0.562609</td>\n",
       "      <td>0.048562</td>\n",
       "      <td>0.155774</td>\n",
       "      <td>1.895624</td>\n",
       "      <td>20.209679</td>\n",
       "      <td>1.352974</td>\n",
       "    </tr>\n",
       "  </tbody>\n",
       "</table>\n",
       "<p>1136932 rows × 26 columns</p>\n",
       "</div>"
      ],
      "text/plain": [
       "            DEPTH_MD         X_LOC      Y_LOC        Z_LOC  GROUP  FORMATION  \\\n",
       "876095   3974.002467  450938.18750  6832991.0 -3948.305908      9         36   \n",
       "1117177  3442.045600  537910.12500  6791149.5 -2931.918457     12         23   \n",
       "605573   1219.477000  539998.75000  6738654.0 -1196.312744      7         37   \n",
       "1111800  3681.606800  518361.87500  6798609.5 -3328.262695     12         11   \n",
       "583721   2243.956980  526935.31250  6758511.0 -2218.817871     12         17   \n",
       "...              ...           ...        ...          ...    ...        ...   \n",
       "111976   2879.161201  476914.03125  6732115.5 -2024.679077     13         54   \n",
       "262169   3488.665901  476898.78125  6625397.5 -3463.175781      3         53   \n",
       "133640    802.370799  477772.03125  6520634.0  -776.325073      6         67   \n",
       "678675   1070.415000  544111.31250  6720734.0 -1047.373779      7         49   \n",
       "123666    759.206396  476768.25000  6523588.0  -732.841736      6         67   \n",
       "\n",
       "              CALI      RSHA      RMED       RDEP  ...         SP         BS  \\\n",
       "876095    8.508841  1.395567  8.985200  14.833700  ...  55.644119   8.500000   \n",
       "1117177   8.568926  1.395567  8.759437   9.023527  ...  55.644119   8.500000   \n",
       "605573   12.580236  1.395567  0.808332   0.812674  ...  72.077728  12.250001   \n",
       "1111800   8.310400  1.395567  3.214384   3.324235  ...  55.644119   8.500000   \n",
       "583721   11.891605  3.400194  1.616194   1.254601  ...  62.933037  12.250001   \n",
       "...            ...       ...       ...        ...  ...        ...        ...   \n",
       "111976   12.336412  1.395567  1.425520   1.421928  ...  55.644119  12.250001   \n",
       "262169    9.194545  6.442646  4.962753   5.554353  ...  72.257416   8.500000   \n",
       "133640   12.425052  1.395567  1.446045   1.867751  ...  55.644119  12.250001   \n",
       "678675   12.580236  1.395567  0.766144   0.936068  ...  13.861520  12.250001   \n",
       "123666   12.773593  1.395567  1.408777   1.415868  ...  55.644119  12.250001   \n",
       "\n",
       "               ROP         DTS      DCAL      DRHO  MUDWEIGHT      RMIC  \\\n",
       "876095   60.287792  129.364151  0.562609  0.006275   0.155774  1.895624   \n",
       "1117177  28.726419  138.965683  0.562609  0.152209   0.155774  1.895624   \n",
       "605573   17.841936  190.850754  0.562609  0.109000   0.155774  1.895624   \n",
       "1111800  21.489962  203.214615  0.562609 -0.008599   0.155774  1.895624   \n",
       "583721   17.841936  190.850754  0.562609  0.022718   0.155774  1.895624   \n",
       "...            ...         ...       ...       ...        ...       ...   \n",
       "111976    5.492826  190.850754  0.562609  0.001668   1.401969  1.895624   \n",
       "262169   17.841936  190.850754  0.694545  0.046465   0.155774  1.895624   \n",
       "133640   18.451122  190.850754  0.562609 -0.004699   0.155774  1.895624   \n",
       "678675   17.841936  190.850754  0.562609 -0.013680   0.155774  1.895624   \n",
       "123666   34.084076  190.850754  0.562609  0.048562   0.155774  1.895624   \n",
       "\n",
       "              ROPA       RXO  \n",
       "876095    0.053372  1.352974  \n",
       "1117177  20.209679  1.352974  \n",
       "605573   20.209679  1.352974  \n",
       "1111800  16.890213  1.352974  \n",
       "583721   20.209679  2.710180  \n",
       "...            ...       ...  \n",
       "111976   20.209679  1.352974  \n",
       "262169   20.209679  1.352974  \n",
       "133640   24.932571  1.352974  \n",
       "678675   20.209679  1.352974  \n",
       "123666   20.209679  1.352974  \n",
       "\n",
       "[1136932 rows x 26 columns]"
      ]
     },
     "execution_count": 45,
     "metadata": {},
     "output_type": "execute_result"
    }
   ],
   "source": [
    "X"
   ]
  },
  {
   "cell_type": "markdown",
   "metadata": {},
   "source": [
    "#### Select only the columns you want to use"
   ]
  },
  {
   "cell_type": "code",
   "execution_count": 46,
   "metadata": {},
   "outputs": [
    {
     "data": {
      "text/plain": [
       "Index(['DEPTH_MD', 'X_LOC', 'Y_LOC', 'Z_LOC', 'GROUP', 'FORMATION', 'CALI',\n",
       "       'RSHA', 'RMED', 'RDEP', 'RHOB', 'GR', 'SGR', 'NPHI', 'PEF', 'DTC', 'SP',\n",
       "       'BS', 'ROP', 'DTS', 'DCAL', 'DRHO', 'MUDWEIGHT', 'RMIC', 'ROPA', 'RXO'],\n",
       "      dtype='object')"
      ]
     },
     "execution_count": 46,
     "metadata": {},
     "output_type": "execute_result"
    }
   ],
   "source": [
    "X.columns"
   ]
  },
  {
   "cell_type": "code",
   "execution_count": 47,
   "metadata": {},
   "outputs": [],
   "source": [
    "# X = X[['DEPTH_MD', 'CALI', 'RSHA', 'RMED', 'RDEP', 'RHOB', 'GR', 'NPHI', 'PEF', 'DTC', 'SP', 'BS']]\n",
    "indxs = X.columns"
   ]
  },
  {
   "cell_type": "markdown",
   "metadata": {},
   "source": [
    "##### Scale the features"
   ]
  },
  {
   "cell_type": "code",
   "execution_count": 48,
   "metadata": {},
   "outputs": [],
   "source": [
    "scaler = StandardScaler()"
   ]
  },
  {
   "cell_type": "code",
   "execution_count": 49,
   "metadata": {},
   "outputs": [
    {
     "data": {
      "text/plain": [
       "Index(['DEPTH_MD', 'X_LOC', 'Y_LOC', 'Z_LOC', 'GROUP', 'FORMATION', 'CALI',\n",
       "       'RSHA', 'RMED', 'RDEP', 'RHOB', 'GR', 'SGR', 'NPHI', 'PEF', 'DTC', 'SP',\n",
       "       'BS', 'ROP', 'DTS', 'DCAL', 'DRHO', 'MUDWEIGHT', 'RMIC', 'ROPA', 'RXO'],\n",
       "      dtype='object')"
      ]
     },
     "execution_count": 49,
     "metadata": {},
     "output_type": "execute_result"
    }
   ],
   "source": [
    "X.columns"
   ]
  },
  {
   "cell_type": "code",
   "execution_count": 50,
   "metadata": {},
   "outputs": [],
   "source": [
    "X = scaler.fit_transform(X)"
   ]
  },
  {
   "cell_type": "markdown",
   "metadata": {},
   "source": [
    "##### Split into train and test data"
   ]
  },
  {
   "cell_type": "code",
   "execution_count": 51,
   "metadata": {},
   "outputs": [],
   "source": [
    "X_train, X_test, y_train, y_test = train_test_split(X, y, test_size=0.2, random_state=42)"
   ]
  },
  {
   "cell_type": "markdown",
   "metadata": {},
   "source": [
    "### Applying the custom scoring function"
   ]
  },
  {
   "cell_type": "markdown",
   "metadata": {},
   "source": [
    "Apart from the missing log curves, **one of the key challenges of this machine learning competition is that you are being scored using a custom scoring function**. \n",
    "\n",
    "A prediction is scored using the penalty function\n",
    "$$ S = - \\frac{1}{N}\\sum_{i=0}^N A_{ \\hat{y}_i y_i} $$\n",
    "where $N$ is the number of samples, $y_i$ is prediction for sample $i$, $\\hat{y}_i$ is the true target for sample $i$, and $A$ is the penalty matrix given by the following\n",
    "\n",
    "In short, the value of the matrix A at row i and column j is the **penalty** given by guessing lithology number i when the correct label is lithology numner j. Notice that the diagonal consists of zeros, no penalty is given for correct predictions."
   ]
  },
  {
   "cell_type": "code",
   "execution_count": 52,
   "metadata": {},
   "outputs": [],
   "source": [
    "A = np.load('penalty_matrix.npy')"
   ]
  },
  {
   "cell_type": "code",
   "execution_count": 53,
   "metadata": {},
   "outputs": [
    {
     "data": {
      "text/plain": [
       "array([[0.   , 2.   , 3.5  , 3.   , 3.75 , 3.5  , 3.5  , 4.   , 4.   ,\n",
       "        2.5  , 3.875, 3.25 ],\n",
       "       [2.   , 0.   , 2.375, 2.75 , 4.   , 3.75 , 3.75 , 3.875, 4.   ,\n",
       "        3.   , 3.75 , 3.   ],\n",
       "       [3.5  , 2.375, 0.   , 2.   , 3.5  , 3.5  , 3.75 , 4.   , 4.   ,\n",
       "        2.75 , 3.25 , 3.   ],\n",
       "       [3.   , 2.75 , 2.   , 0.   , 2.5  , 2.   , 2.25 , 4.   , 4.   ,\n",
       "        3.375, 3.75 , 3.25 ],\n",
       "       [3.75 , 4.   , 3.5  , 2.5  , 0.   , 2.625, 2.875, 3.75 , 3.25 ,\n",
       "        3.   , 4.   , 3.625],\n",
       "       [3.5  , 3.75 , 3.5  , 2.   , 2.625, 0.   , 1.375, 4.   , 3.75 ,\n",
       "        3.5  , 4.   , 3.625],\n",
       "       [3.5  , 3.75 , 3.75 , 2.25 , 2.875, 1.375, 0.   , 4.   , 3.75 ,\n",
       "        3.125, 4.   , 3.75 ],\n",
       "       [4.   , 3.875, 4.   , 4.   , 3.75 , 4.   , 4.   , 0.   , 2.75 ,\n",
       "        3.75 , 3.75 , 4.   ],\n",
       "       [4.   , 4.   , 4.   , 4.   , 3.25 , 3.75 , 3.75 , 2.75 , 0.   ,\n",
       "        4.   , 4.   , 3.875],\n",
       "       [2.5  , 3.   , 2.75 , 3.375, 3.   , 3.5  , 3.125, 3.75 , 4.   ,\n",
       "        0.   , 2.5  , 3.25 ],\n",
       "       [3.875, 3.75 , 3.25 , 3.75 , 4.   , 4.   , 4.   , 3.75 , 4.   ,\n",
       "        2.5  , 0.   , 4.   ],\n",
       "       [3.25 , 3.   , 3.   , 3.25 , 3.625, 3.625, 3.75 , 4.   , 3.875,\n",
       "        3.25 , 4.   , 0.   ]])"
      ]
     },
     "execution_count": 53,
     "metadata": {},
     "output_type": "execute_result"
    }
   ],
   "source": [
    "A"
   ]
  },
  {
   "cell_type": "markdown",
   "metadata": {},
   "source": [
    "The scoring function can be implemented as follows. If used as a loss function in a neural network framwork, it is recommended to implement a more efficient function based on tensor products. "
   ]
  },
  {
   "cell_type": "code",
   "execution_count": 54,
   "metadata": {},
   "outputs": [],
   "source": [
    "def score(y_true, y_pred):\n",
    "    S = 0.0\n",
    "    y_true = y_true.astype(int)\n",
    "    y_pred = y_pred.astype(int)\n",
    "    for i in range(0, y_true.shape[0]):\n",
    "        S -= A[y_true[i], y_pred[i]]\n",
    "    return S/y_true.shape[0]"
   ]
  },
  {
   "cell_type": "markdown",
   "metadata": {},
   "source": [
    "**IMPORTANT: The implementation above assumes zero-indexed y_true and y_pred. Be careful not to mix zero-indexed and 1-indexed class labels.**"
   ]
  },
  {
   "cell_type": "markdown",
   "metadata": {},
   "source": [
    "Let us see what happens when we test the scoring function on some corner cases:"
   ]
  },
  {
   "cell_type": "markdown",
   "metadata": {},
   "source": [
    "##### Lazily guessing SHALE for everything gives an OK score due to the imbalance of the dataset"
   ]
  },
  {
   "cell_type": "code",
   "execution_count": 55,
   "metadata": {},
   "outputs": [
    {
     "data": {
      "text/plain": [
       "-1.1393807693491713"
      ]
     },
     "execution_count": 55,
     "metadata": {},
     "output_type": "execute_result"
    }
   ],
   "source": [
    "score(y_test.values, np.ones(y_test.shape)*2)"
   ]
  },
  {
   "cell_type": "markdown",
   "metadata": {},
   "source": [
    "##### Doing the same for an uncommon class, like COAL, not so much.."
   ]
  },
  {
   "cell_type": "code",
   "execution_count": 56,
   "metadata": {},
   "outputs": [
    {
     "data": {
      "text/plain": [
       "-3.0943017850624708"
      ]
     },
     "execution_count": 56,
     "metadata": {},
     "output_type": "execute_result"
    }
   ],
   "source": [
    "score(y_test.values, np.ones(y_test.shape)*11)"
   ]
  },
  {
   "cell_type": "markdown",
   "metadata": {},
   "source": [
    "##### Of course getting it completely right gives the highest possible score, 0"
   ]
  },
  {
   "cell_type": "code",
   "execution_count": 57,
   "metadata": {},
   "outputs": [
    {
     "data": {
      "text/plain": [
       "0.0"
      ]
     },
     "execution_count": 57,
     "metadata": {},
     "output_type": "execute_result"
    }
   ],
   "source": [
    "score(y_test.values, y_test.values)"
   ]
  },
  {
   "cell_type": "markdown",
   "metadata": {},
   "source": [
    "### Example prediction on open test dataset"
   ]
  },
  {
   "cell_type": "markdown",
   "metadata": {},
   "source": [
    "##### Train an oversimplified dummy model for the sake of the example\n",
    "In order to give examples of how to submit predictions and reproducible code, we will train a RandomForestClassifier on the full feature set where we lazily have set all missing values (NaNs) to zero. This is an example only, following along this approach for the competition is not recommended. However, the template below can be used for generating predictions for the weekly leaderboard from your own model, and as an example on how to ecapsulate your model for final scoring where you have to submit code.\n",
    "\n",
    "Apart from the inherent flaws of the random forest classifier, this example approach has a number of issues and simplifications. For example:\n",
    "* Data is not separated per well. Normalization and shuffling is done across the whole dataset.\n",
    "* The penatly matrix is not taken into account, it is treated as a normal classification problem.\n",
    "* Missing logs are treated as zeros\n",
    "* Depth and formation tops not taken into account\n",
    "* Same model is used for when you only have gamma ray logs as when you have the full set of logs"
   ]
  },
  {
   "cell_type": "code",
   "execution_count": 58,
   "metadata": {
    "scrolled": true
   },
   "outputs": [],
   "source": [
    "model = RandomForestClassifier(n_estimators=50, random_state=42, class_weight='balanced')"
   ]
  },
  {
   "cell_type": "code",
   "execution_count": 59,
   "metadata": {},
   "outputs": [
    {
     "data": {
      "text/plain": [
       "RandomForestClassifier(class_weight='balanced', n_estimators=50,\n",
       "                       random_state=42)"
      ]
     },
     "execution_count": 59,
     "metadata": {},
     "output_type": "execute_result"
    }
   ],
   "source": [
    "model.fit(X_train, y_train)"
   ]
  },
  {
   "cell_type": "code",
   "execution_count": 60,
   "metadata": {},
   "outputs": [
    {
     "data": {
      "text/plain": [
       "FORMATION    0.099290\n",
       "GROUP        0.095830\n",
       "RHOB         0.092569\n",
       "Y_LOC        0.068978\n",
       "GR           0.063216\n",
       "DTC          0.062485\n",
       "Z_LOC        0.059578\n",
       "DEPTH_MD     0.057422\n",
       "NPHI         0.053452\n",
       "MUDWEIGHT    0.051256\n",
       "X_LOC        0.049160\n",
       "RDEP         0.043741\n",
       "CALI         0.034472\n",
       "RMED         0.029675\n",
       "SP           0.025277\n",
       "ROP          0.024554\n",
       "RSHA         0.018653\n",
       "PEF          0.015056\n",
       "DRHO         0.014138\n",
       "DCAL         0.010844\n",
       "RXO          0.007167\n",
       "BS           0.006418\n",
       "DTS          0.006029\n",
       "ROPA         0.004709\n",
       "RMIC         0.003686\n",
       "SGR          0.002347\n",
       "dtype: float64"
      ]
     },
     "execution_count": 60,
     "metadata": {},
     "output_type": "execute_result"
    }
   ],
   "source": [
    "importances = model.feature_importances_\n",
    "importances = pd.Series(importances, index=indxs).sort_values(ascending=False)\n",
    "importances"
   ]
  },
  {
   "cell_type": "code",
   "execution_count": 61,
   "metadata": {},
   "outputs": [
    {
     "data": {
      "text/plain": [
       "0.9999999999999998"
      ]
     },
     "execution_count": 61,
     "metadata": {},
     "output_type": "execute_result"
    }
   ],
   "source": [
    "np.sum(importances)"
   ]
  },
  {
   "cell_type": "code",
   "execution_count": 62,
   "metadata": {},
   "outputs": [
    {
     "data": {
      "image/png": "[encoded data removed]",
      "text/plain": [
       "<Figure size 432x288 with 1 Axes>"
      ]
     },
     "metadata": {
      "needs_background": "light"
     },
     "output_type": "display_data"
    }
   ],
   "source": [
    "sns.barplot(y=importances.index, x=importances, orient=\"h\")\n",
    "pass"
   ]
  },
  {
   "cell_type": "markdown",
   "metadata": {},
   "source": [
    "#### Test model"
   ]
  },
  {
   "cell_type": "code",
   "execution_count": 63,
   "metadata": {},
   "outputs": [],
   "source": [
    "y_pred_test = model.predict(X_test)"
   ]
  },
  {
   "cell_type": "code",
   "execution_count": 64,
   "metadata": {},
   "outputs": [
    {
     "data": {
      "text/plain": [
       "-0.10756221771693193"
      ]
     },
     "execution_count": 64,
     "metadata": {},
     "output_type": "execute_result"
    }
   ],
   "source": [
    "score(y_test.values, y_pred_test)"
   ]
  },
  {
   "cell_type": "markdown",
   "metadata": {},
   "source": [
    "##### Save model and scaler to files"
   ]
  },
  {
   "cell_type": "code",
   "execution_count": 65,
   "metadata": {},
   "outputs": [],
   "source": [
    "pickle.dump(model, open('model.pkl', 'wb'))"
   ]
  },
  {
   "cell_type": "code",
   "execution_count": 66,
   "metadata": {},
   "outputs": [],
   "source": [
    "pickle.dump(scaler, open('scaler.pkl', 'wb'))"
   ]
  },
  {
   "cell_type": "markdown",
   "metadata": {},
   "source": [
    "In order to make it easy to run inference on new data, such as the open test dataset, it is recommended to wrap the initialization of the model, all preprocessing steps including normalization, treatment of NaNs and removals of unused columns in a class or pipeline. There are many ways of doing this, one example being a class like below:"
   ]
  },
  {
   "cell_type": "markdown",
   "metadata": {},
   "source": [
    "### K-Nearest Neighbors method"
   ]
  },
  {
   "cell_type": "code",
   "execution_count": 67,
   "metadata": {},
   "outputs": [],
   "source": [
    "from sklearn.neighbors import KNeighborsClassifier\n",
    "knn_classifier = KNeighborsClassifier(n_neighbors=3)"
   ]
  },
  {
   "cell_type": "code",
   "execution_count": 68,
   "metadata": {},
   "outputs": [
    {
     "data": {
      "text/plain": [
       "KNeighborsClassifier(n_neighbors=3)"
      ]
     },
     "execution_count": 68,
     "metadata": {},
     "output_type": "execute_result"
    }
   ],
   "source": [
    "knn_classifier.fit(X_train, y_train)"
   ]
  },
  {
   "cell_type": "markdown",
   "metadata": {},
   "source": [
    "#### Test knn mdoel"
   ]
  },
  {
   "cell_type": "code",
   "execution_count": 69,
   "metadata": {},
   "outputs": [],
   "source": [
    "y_pred_test_knn = knn_classifier.predict(X_test)"
   ]
  },
  {
   "cell_type": "code",
   "execution_count": 70,
   "metadata": {},
   "outputs": [
    {
     "data": {
      "text/plain": [
       "-0.1595303381459802"
      ]
     },
     "execution_count": 70,
     "metadata": {},
     "output_type": "execute_result"
    }
   ],
   "source": [
    "score(y_test.values, y_pred_test_knn)"
   ]
  },
  {
   "cell_type": "markdown",
   "metadata": {},
   "source": [
    "### PCA"
   ]
  },
  {
   "cell_type": "markdown",
   "metadata": {},
   "source": [
    "* Random forest"
   ]
  },
  {
   "cell_type": "code",
   "execution_count": 81,
   "metadata": {},
   "outputs": [],
   "source": [
    "N_comp = 10"
   ]
  },
  {
   "cell_type": "code",
   "execution_count": 82,
   "metadata": {},
   "outputs": [
    {
     "data": {
      "text/plain": [
       "PCA(n_components=10)"
      ]
     },
     "execution_count": 82,
     "metadata": {},
     "output_type": "execute_result"
    }
   ],
   "source": [
    "from sklearn import decomposition\n",
    "pca = decomposition.PCA(n_components=N_comp)\n",
    "pca.fit(X_train)"
   ]
  },
  {
   "cell_type": "code",
   "execution_count": 83,
   "metadata": {},
   "outputs": [
    {
     "data": {
      "text/plain": [
       "PCA(n_components=10)"
      ]
     },
     "execution_count": 83,
     "metadata": {},
     "output_type": "execute_result"
    }
   ],
   "source": [
    "pca_2 = decomposition.PCA(n_components=N_comp)\n",
    "pca_2.fit(X_test)"
   ]
  },
  {
   "cell_type": "code",
   "execution_count": 84,
   "metadata": {},
   "outputs": [],
   "source": [
    "X_train_pca = pca.transform(X_train)\n",
    "X_test_pca = pca_2.transform(X_test)"
   ]
  },
  {
   "cell_type": "code",
   "execution_count": 85,
   "metadata": {},
   "outputs": [],
   "source": [
    "model_pca = RandomForestClassifier(n_estimators=50, random_state=42, class_weight='balanced')\n",
    "model_pca.fit(X_train_pca, y_train)\n",
    "y_pred_test_pca = model_pca.predict(X_test_pca)"
   ]
  },
  {
   "cell_type": "code",
   "execution_count": 86,
   "metadata": {},
   "outputs": [
    {
     "data": {
      "text/plain": [
       "-1.4120464230584862"
      ]
     },
     "execution_count": 86,
     "metadata": {},
     "output_type": "execute_result"
    }
   ],
   "source": [
    "score(y_test.values, y_pred_test_pca)"
   ]
  },
  {
   "cell_type": "markdown",
   "metadata": {},
   "source": [
    "* KNN"
   ]
  },
  {
   "cell_type": "code",
   "execution_count": 87,
   "metadata": {},
   "outputs": [],
   "source": [
    "knn_classifier_pca = KNeighborsClassifier(n_neighbors=5)"
   ]
  },
  {
   "cell_type": "code",
   "execution_count": 88,
   "metadata": {},
   "outputs": [
    {
     "data": {
      "text/plain": [
       "KNeighborsClassifier()"
      ]
     },
     "execution_count": 88,
     "metadata": {},
     "output_type": "execute_result"
    }
   ],
   "source": [
    "knn_classifier_pca.fit(X_train_pca, y_train)"
   ]
  },
  {
   "cell_type": "code",
   "execution_count": 89,
   "metadata": {},
   "outputs": [],
   "source": [
    "y_pred_test_knn_pca = knn_classifier_pca.predict(X_test_pca)"
   ]
  },
  {
   "cell_type": "code",
   "execution_count": 90,
   "metadata": {},
   "outputs": [
    {
     "data": {
      "text/plain": [
       "-1.8304575459458985"
      ]
     },
     "execution_count": 90,
     "metadata": {},
     "output_type": "execute_result"
    }
   ],
   "source": [
    "score(y_test.values, y_pred_test_knn_pca)"
   ]
  },
  {
   "cell_type": "code",
   "execution_count": null,
   "metadata": {},
   "outputs": [],
   "source": [
    "# class Model(object):\n",
    "#     def __init__(self, model_file, scaler_file):\n",
    "#         # Load pre-trained model from file\n",
    "#         self.model = pickle.load(open(model_file, 'rb'))\n",
    "#         # Load a \"pre-trained\" scaler from file\n",
    "#         self.scaler = pickle.load(open(scaler_file, 'rb'))\n",
    "        \n",
    "#     def _preprocess(self, features):\n",
    "#         # Method to be run before inference. Contains things like\n",
    "#         # stripping unwanted columns, replacing NaNs, and scaling \n",
    "#         # or normalizing data\n",
    "#         features.fillna(0, inplace=True)\n",
    "#         features = features[['DEPTH_MD', 'X_LOC', 'Y_LOC', 'Z_LOC', 'GROUP', 'FORMATION', 'CALI',\n",
    "#        'RSHA', 'RMED', 'RDEP', 'RHOB', 'GR', 'SGR', 'NPHI', 'PEF', 'DTC', 'SP',\n",
    "#        'BS', 'ROP', 'DTS', 'DCAL', 'DRHO', 'MUDWEIGHT', 'RMIC', 'ROPA', 'RXO']]\n",
    "#         return self.scaler.transform(features)\n",
    "        \n",
    "#     def predict(self, features):\n",
    "#         # This function should be able to take in features in their\n",
    "#         # raw, unprocessed form as read from the file test.csv and\n",
    "#         # return predictions as an array integers of the same length\n",
    "#         X = self._preprocess(features)\n",
    "#         return self.model.predict(X)"
   ]
  },
  {
   "cell_type": "markdown",
   "metadata": {},
   "source": [
    "The model can then be initialized using persisted data in the form of saved model file (or models files), scaler files, and other persisted data.  "
   ]
  },
  {
   "cell_type": "code",
   "execution_count": null,
   "metadata": {},
   "outputs": [],
   "source": [
    "# my_model = Model('model.pkl', 'scaler.pkl')"
   ]
  },
  {
   "cell_type": "code",
   "execution_count": null,
   "metadata": {},
   "outputs": [],
   "source": [
    "!pip freeze > requirements.txt"
   ]
  },
  {
   "cell_type": "code",
   "execution_count": null,
   "metadata": {},
   "outputs": [],
   "source": []
  }
 ],
 "metadata": {
  "kernelspec": {
   "display_name": "ml_env",
   "language": "python",
   "name": "ml_env"
  },
  "language_info": {
   "codemirror_mode": {
    "name": "ipython",
    "version": 3
   },
   "file_extension": ".py",
   "mimetype": "text/x-python",
   "name": "python",
   "nbconvert_exporter": "python",
   "pygments_lexer": "ipython3",
   "version": "3.8.5"
  }
 },
 "nbformat": 4,
 "nbformat_minor": 4
}
